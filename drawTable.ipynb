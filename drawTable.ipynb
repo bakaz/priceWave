{
 "cells": [
  {
   "cell_type": "code",
   "execution_count": null,
   "metadata": {
    "collapsed": true
   },
   "outputs": [],
   "source": [
    "import matplotlib.pyplot as plt\n",
    "import numpy as np\n",
    "import pandas as pd\n",
    "import seaborn as sns"
   ]
  },
  {
   "cell_type": "code",
   "execution_count": null,
   "outputs": [],
   "source": [
    "# Time series plot\n",
    "\n",
    "# Import Data\n",
    "df = pd.read_csv('https://github.com/selva86/datasets/raw/master/AirPassengers.csv')\n",
    "\n",
    "# Draw Plot\n",
    "plt.figure(figsize=(16,10), dpi= 80)\n",
    "plt.plot('date', 'traffic', data=df, color='tab:red')\n",
    "\n",
    "# Decoration\n",
    "plt.ylim(50, 750)\n",
    "xtick_location = df.index.tolist()[::12]\n",
    "xtick_labels = [x[-4:] for x in df.date.tolist()[::12]]\n",
    "plt.xticks(ticks=xtick_location, labels=xtick_labels, rotation=0, fontsize=12, horizontalalignment='center', alpha=.7)\n",
    "plt.yticks(fontsize=12, alpha=.7)\n",
    "plt.title(\"Air Passengers Traffic (1949 - 1969)\", fontsize=22)\n",
    "plt.grid(axis='both', alpha=.3)\n",
    "\n",
    "# Remove borders\n",
    "plt.gca().spines[\"top\"].set_alpha(0.0)\n",
    "plt.gca().spines[\"bottom\"].set_alpha(0.3)\n",
    "plt.gca().spines[\"right\"].set_alpha(0.0)\n",
    "plt.gca().spines[\"left\"].set_alpha(0.3)\n",
    "plt.show()"
   ],
   "metadata": {
    "collapsed": false,
    "pycharm": {
     "name": "#%%\n"
    }
   }
  },
  {
   "cell_type": "code",
   "execution_count": null,
   "outputs": [],
   "source": [
    "plt.savefig('test.png')\n",
    "plt.show()"
   ],
   "metadata": {
    "collapsed": false,
    "pycharm": {
     "name": "#%%\n"
    }
   }
  }
 ],
 "metadata": {
  "kernelspec": {
   "display_name": "Python 3",
   "language": "python",
   "name": "python3"
  },
  "language_info": {
   "codemirror_mode": {
    "name": "ipython",
    "version": 2
   },
   "file_extension": ".py",
   "mimetype": "text/x-python",
   "name": "python",
   "nbconvert_exporter": "python",
   "pygments_lexer": "ipython2",
   "version": "2.7.6"
  }
 },
 "nbformat": 4,
 "nbformat_minor": 0
}